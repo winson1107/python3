{
 "cells": [
  {
   "cell_type": "code",
   "execution_count": 2,
   "metadata": {},
   "outputs": [],
   "source": [
    "#导入需要的工具库\n",
    "import numpy as np\n",
    "import pandas as pd\n",
    "#读取数据''data_MG.xlsx' 文件的路径名，如果程序和文件在同一个地方就用路径名C:\\Users\\Administrator\\Desktop\\py\\v1\\data_MG.xlsx\n",
    "data =pd.read_excel('data_MG.xlsx')"
   ]
  },
  {
   "cell_type": "code",
   "execution_count": null,
   "metadata": {},
   "outputs": [],
   "source": [
    "#head()函数为读取文件中的前5条，查看正常不\n",
    "data.head()"
   ]
  },
  {
   "cell_type": "code",
   "execution_count": 118,
   "metadata": {},
   "outputs": [],
   "source": [
    "#替换逾期列名为risk，同时逾期已经在线下做了改动，将NA值变成0，即1为逾期，0为不逾期\n",
    "data1 = data.rename(columns={'逾期':'risk'})\n",
    "#查看data1数据\n",
    "data1"
   ]
  },
  {
   "cell_type": "code",
   "execution_count": 5,
   "metadata": {},
   "outputs": [],
   "source": [
    "#去掉不要的列 名字列和id列\n",
    "data2 = data1.drop(columns=['realname','id'])"
   ]
  },
  {
   "cell_type": "code",
   "execution_count": 6,
   "metadata": {},
   "outputs": [],
   "source": [
    "#分类桶函数，score_bins为要分类的桶的上下限，分类为左闭右开区间[0-11)\n",
    "score_bins = [0,11,21,31,41,51,61,101]\n",
    "def map_bin(x, bins):\n",
    "    kwargs = {}\n",
    "    if x == max(bins):\n",
    "        kwargs['right'] = True\n",
    "    #区间上限\n",
    "    bin = bins[np.digitize([x], bins, **kwargs)[0]]\n",
    "    print(bin)\n",
    "    #区间下限\n",
    "    bin_lower = bins[np.digitize([x], bins, **kwargs)[0]-1]\n",
    "    print(bin_lower)\n",
    "    # bin-1就是区间上限减掉1，即[1-11）变成了全闭区间[1-10]，只整对整数 \n",
    "    return '[{0}-{1}]'.format(bin_lower, bin-1)"
   ]
  },
  {
   "cell_type": "code",
   "execution_count": null,
   "metadata": {},
   "outputs": [],
   "source": [
    "map_bin(20,score_bins)"
   ]
  },
  {
   "cell_type": "code",
   "execution_count": 103,
   "metadata": {},
   "outputs": [],
   "source": [
    "#创建一个分类痛的列，为后面聚合函数做准备,data2['BinScore']，'BinScore'为自己填写的列名，\n",
    "#data2['mg_black_score'] 需要分类的列名\n",
    "#apply(map_bin, bins=score_bins) 应用的函数，map_bin为调用的函数名称，bins 为桶区间\n",
    "data2['BinScore'] = data2['mg_black_score'].apply(map_bin, bins=score_bins)"
   ]
  },
  {
   "cell_type": "code",
   "execution_count": 102,
   "metadata": {},
   "outputs": [],
   "source": [
    "#选取 状态为21、22、23、30的行组成行的表\n",
    "#data2['STATUS'].isin([21,22,23,30]) 判断status类的数字是否等于[21,22,23,30]里面的数，如果是则为Ture，否则为False\n",
    "#data3 = data2[data2['STATUS'].isin([21,22,23,30])] 取出True的含作为新的表，存入data3，计算放款使用。如果想反选则前面加上~，如data4\n",
    "data3 = data2[data2['STATUS'].isin([21,22,23,30])]\n",
    "data4 = data2[~data2['STATUS'].isin([21,22,23,30])]\n",
    "#查看前5行\n",
    "data3.head()"
   ]
  },
  {
   "cell_type": "code",
   "execution_count": 78,
   "metadata": {},
   "outputs": [],
   "source": [
    "#groupeddata2 = data2['risk'].groupby(data2['BinScore']).sum()\n",
    "#groupeddata2 创建一个变量存放结果，data2['risk'] 选择要计算的值的列名，groupby(data2['BinScore'])要透视的列名\n",
    "#sum() 对于risk列的操作是加和，还有mean()平均数，还有count()计数\n",
    "#groupeddata2 = pd.DataFrame({'逾期人数':groupeddata2}) 将结果转换成Dataframe变量，Dataframe你理解为一种二维表格即可。为拼接作准备。\n",
    "groupeddata2 = data2['risk'].groupby(data2['BinScore']).sum() #根据BinScore 汇总逾期人数，由于1是逾期，逾期就是与其人数\n",
    "groupeddata2 = pd.DataFrame({'逾期人数':groupeddata2})\n",
    "groupeddata3 = data2['user_id'].groupby(data2['BinScore']).count() #根据BinScore 计算所有人数，即为申请人数\n",
    "groupeddata3 = pd.DataFrame({'申请人数':groupeddata3})\n",
    "groupeddata4 = data3['user_id'].groupby(data2['BinScore']).count() #根据BinScore 计算data3，即放款表的所有人数，即为放款人数\n",
    "groupeddata4 = pd.DataFrame({'放款人数':groupeddata4})"
   ]
  },
  {
   "cell_type": "code",
   "execution_count": 101,
   "metadata": {},
   "outputs": [],
   "source": [
    "#先拼接g2和g4存入Data_Deal\n",
    "Data_Deal = groupeddata2.merge(groupeddata4,left_index=True,right_index=True,how='left')"
   ]
  },
  {
   "cell_type": "code",
   "execution_count": 84,
   "metadata": {},
   "outputs": [],
   "source": [
    "#再拼接Data_Deal和g3，存入Data_Deal\n",
    "Data_Deal = Data_Deal.merge(groupeddata3,left_index=True,right_index=True,how='left')"
   ]
  },
  {
   "cell_type": "code",
   "execution_count": 116,
   "metadata": {},
   "outputs": [],
   "source": [
    "#PD的透视表 https://www.cnblogs.com/onemorepoint/p/8425300.html\n",
    "Data_Deal2 = pd.pivot_table(data2,index=['BinScore','STATUS'],values=['risk'],aggfunc=[np.sum,len],margins=True).query('STATUS == [21,22,23,30]')"
   ]
  },
  {
   "cell_type": "code",
   "execution_count": 117,
   "metadata": {},
   "outputs": [],
   "source": [
    "#将结果输出成ecxel\n",
    "Data_Deal.to_excel('Data_Deal.xlsx')\n",
    "Data_Deal2.to_excel('Data_Deal2.xlsx')"
   ]
  }
 ],
 "metadata": {
  "kernelspec": {
   "display_name": "Python 3",
   "language": "python",
   "name": "python3"
  },
  "language_info": {
   "codemirror_mode": {
    "name": "ipython",
    "version": 3
   },
   "file_extension": ".py",
   "mimetype": "text/x-python",
   "name": "python",
   "nbconvert_exporter": "python",
   "pygments_lexer": "ipython3",
   "version": "3.7.0"
  }
 },
 "nbformat": 4,
 "nbformat_minor": 2
}
